{
 "cells": [
  {
   "cell_type": "markdown",
   "metadata": {},
   "source": [
    "# IMDB movie critics\n",
    "\n",
    "We'll see how to train RNNs in order to do sentiment analysis on movie critics. We'll see how to train embeddings, LSTM, GRU models."
   ]
  },
  {
   "cell_type": "code",
   "execution_count": 1,
   "metadata": {
    "collapsed": false
   },
   "outputs": [
    {
     "name": "stderr",
     "output_type": "stream",
     "text": [
      "Using TensorFlow backend.\n"
     ]
    }
   ],
   "source": [
    "%matplotlib inline\n",
    "from utils import *\n",
    "from __future__ import division, print_function"
   ]
  },
  {
   "cell_type": "code",
   "execution_count": 2,
   "metadata": {
    "collapsed": false
   },
   "outputs": [],
   "source": [
    "from keras.backend.tensorflow_backend import set_session\n",
    "config = tf.ConfigProto()\n",
    "config.gpu_options.per_process_gpu_memory_fraction = 0.9\n",
    "set_session(tf.Session(config=config))"
   ]
  },
  {
   "cell_type": "markdown",
   "metadata": {},
   "source": [
    "# NLP: Sentiment Analysis: Is the critic positive or negative ?!\n",
    "We are doing sentiment analysis on the imdb critics labelled data set. The data is labelled; either positive of negative.The data set is composed of words ids. "
   ]
  },
  {
   "cell_type": "code",
   "execution_count": 3,
   "metadata": {
    "collapsed": true
   },
   "outputs": [],
   "source": [
    "from keras.datasets import imdb"
   ]
  },
  {
   "cell_type": "code",
   "execution_count": 4,
   "metadata": {
    "collapsed": false
   },
   "outputs": [
    {
     "name": "stdout",
     "output_type": "stream",
     "text": [
      "Shape of X _train:  (25000,)\n",
      "Shape of X _test:  (25000,)\n"
     ]
    }
   ],
   "source": [
    "# dowload data\n",
    "(x_train, y_train), (x_test, y_test) = imdb.load_data(path=\"imdb.npz\",\n",
    "                                                      num_words=None,\n",
    "                                                      skip_top=0,\n",
    "                                                      maxlen=None,\n",
    "                                                      seed=113,\n",
    "                                                      start_char=1,\n",
    "                                                      oov_char=2,\n",
    "                                                      index_from=3)\n",
    "print('Shape of X _train: ', np.shape(x_train))\n",
    "print('Shape of X _test: ', np.shape(x_test))"
   ]
  },
  {
   "cell_type": "markdown",
   "metadata": {},
   "source": [
    "#### Explore data"
   ]
  },
  {
   "cell_type": "code",
   "execution_count": 5,
   "metadata": {
    "collapsed": true
   },
   "outputs": [],
   "source": [
    "def get_text(data_ids, len_data):\n",
    "    word_to_id = keras.datasets.imdb.get_word_index()\n",
    "    word_to_id = {k:(v+3) for k,v in word_to_id.items()}\n",
    "    word_to_id[\"<PAD>\"] = 0\n",
    "    word_to_id[\"<START>\"] = 1\n",
    "    word_to_id[\"<UNK>\"] = 2\n",
    "    id_to_word = {value:key for key,value in word_to_id.items()}\n",
    "\n",
    "\n",
    "    text = []\n",
    "    for i in range(len_data):\n",
    "        text.append(' '.join(id_to_word[id] for id in data_ids[i]))\n",
    "    return text    \n",
    "        \n",
    "def get_label_txt(data):\n",
    "    values = []\n",
    "    for idx in range(len(data)):\n",
    "        if data[idx] == [1]:\n",
    "            values.append('Positive')\n",
    "        else:\n",
    "            values.append('Negative')\n",
    "    return values"
   ]
  },
  {
   "cell_type": "code",
   "execution_count": 6,
   "metadata": {
    "collapsed": false
   },
   "outputs": [
    {
     "name": "stdout",
     "output_type": "stream",
     "text": [
      "*******************************************************************************\n",
      "TEXT n° 1  -- LABEL: Positive\n",
      "-------------------------------------------------------------------------------\n",
      "<START> this film was just brilliant casting location scenery story direction everyone's really suited the part they played and you could just imagine being there robert redford's is an amazing actor and now the same being director norman's father came from the same scottish island as myself so i loved the fact there was a real connection with this film the witty remarks throughout the film were great it was just brilliant so much that i bought the film as soon as it was released for retail and would recommend it to everyone to watch and the fly fishing was amazing really cried at the end it was so sad and you know what they say if you cry at a film it must have been good and this definitely was also congratulations to the two little boy's that played the part's of norman and paul they were just brilliant children are often left out of the praising list i think because the stars that play them all grown up are such a big profile for the whole film but these children are amazing and should be praised for what they have done don't you think the whole story was so lovely because it was true and was someone's life after all that was shared with us all\n",
      "*******************************************************************************\n",
      "*******************************************************************************\n",
      "TEXT n° 2  -- LABEL: Negative\n",
      "-------------------------------------------------------------------------------\n",
      "<START> big hair big boobs bad music and a giant safety pin these are the words to best describe this terrible movie i love cheesy horror movies and i've seen hundreds but this had got to be on of the worst ever made the plot is paper thin and ridiculous the acting is an abomination the script is completely laughable the best is the end showdown with the cop and how he worked out who the killer is it's just so damn terribly written the clothes are sickening and funny in equal measures the hair is big lots of boobs bounce men wear those cut tee shirts that show off their stomachs sickening that men actually wore them and the music is just synthesiser trash that plays over and over again in almost every scene there is trashy music boobs and paramedics taking away bodies and the gym still doesn't close for bereavement all joking aside this is a truly bad film whose only charm is to look back on the disaster that was the 80's and have a good old laugh at how bad everything was back then\n",
      "*******************************************************************************\n",
      "*******************************************************************************\n",
      "TEXT n° 3  -- LABEL: Negative\n",
      "-------------------------------------------------------------------------------\n",
      "<START> this has to be one of the worst films of the 1990s when my friends i were watching this film being the target audience it was aimed at we just sat watched the first half an hour with our jaws touching the floor at how bad it really was the rest of the time everyone else in the theatre just started talking to each other leaving or generally crying into their popcorn that they actually paid money they had earnt working to watch this feeble excuse for a film it must have looked like a great idea on paper but on film it looks like no one in the film has a clue what is going on crap acting crap costumes i can't get across how embarrasing this is to watch save yourself an hour a bit of your life\n",
      "*******************************************************************************\n"
     ]
    }
   ],
   "source": [
    "text = get_text(x_train, 10)\n",
    "label = get_label_txt(y_train[:10])\n",
    "\n",
    "for i in range(3):\n",
    "    print('*******************************************************************************')\n",
    "    print('TEXT n°', i + 1, ' -- LABEL:',label[i])\n",
    "    print('-------------------------------------------------------------------------------')\n",
    "    print(text[i])\n",
    "    print('*******************************************************************************')"
   ]
  },
  {
   "cell_type": "markdown",
   "metadata": {},
   "source": [
    "# Preparing Data\n",
    "We'll consider only the 5000 most frequent words in the text. We'll then try to generate embeddings for these text"
   ]
  },
  {
   "cell_type": "code",
   "execution_count": 7,
   "metadata": {
    "collapsed": false
   },
   "outputs": [],
   "source": [
    "vocab_size = 5000\n",
    "trn = [np.array([i if i<vocab_size-1 else vocab_size-1 for i in s]) for s in x_train]\n",
    "test = [np.array([i if i<vocab_size-1 else vocab_size-1 for i in s]) for s in x_test]"
   ]
  },
  {
   "cell_type": "code",
   "execution_count": 8,
   "metadata": {
    "collapsed": false
   },
   "outputs": [
    {
     "name": "stdout",
     "output_type": "stream",
     "text": [
      "Maximum text length: 2494  -- Minimum length: 11 -- Mean length of text: 238.71364\n"
     ]
    }
   ],
   "source": [
    "lens = np.array(list(map(len, trn)))\n",
    "print('Maximum text length:', lens.max(),' -- Minimum length:', lens.min(), '-- Mean length of text:',lens.mean())"
   ]
  },
  {
   "cell_type": "code",
   "execution_count": 9,
   "metadata": {
    "collapsed": true
   },
   "outputs": [],
   "source": [
    "# we'll pad all inputs to obtain homogeneous inputs of dim 500\n",
    "seq_len = 500\n",
    "\n",
    "trn = sequence.pad_sequences(trn, maxlen = seq_len,value=0)\n",
    "test = sequence.pad_sequences(test, maxlen = seq_len,value=0)"
   ]
  },
  {
   "cell_type": "code",
   "execution_count": 10,
   "metadata": {
    "collapsed": false
   },
   "outputs": [
    {
     "data": {
      "text/plain": [
       "(25000, 500)"
      ]
     },
     "execution_count": 10,
     "metadata": {},
     "output_type": "execute_result"
    }
   ],
   "source": [
    "trn.shape"
   ]
  },
  {
   "cell_type": "markdown",
   "metadata": {},
   "source": [
    "## Models - Training own Embeddings\n",
    "### It's possible, nothing unfeasible, just a lot of patience !"
   ]
  },
  {
   "cell_type": "markdown",
   "metadata": {},
   "source": [
    "# A. Using MLP to classify"
   ]
  },
  {
   "cell_type": "code",
   "execution_count": 11,
   "metadata": {
    "collapsed": false
   },
   "outputs": [
    {
     "name": "stdout",
     "output_type": "stream",
     "text": [
      "_________________________________________________________________\n",
      "Layer (type)                 Output Shape              Param #   \n",
      "=================================================================\n",
      "embedding_1 (Embedding)      (None, 500, 32)           160000    \n",
      "_________________________________________________________________\n",
      "flatten_1 (Flatten)          (None, 16000)             0         \n",
      "_________________________________________________________________\n",
      "dense_1 (Dense)              (None, 100)               1600100   \n",
      "_________________________________________________________________\n",
      "batch_normalization_1 (Batch (None, 100)               400       \n",
      "_________________________________________________________________\n",
      "dropout_1 (Dropout)          (None, 100)               0         \n",
      "_________________________________________________________________\n",
      "dense_2 (Dense)              (None, 100)               10100     \n",
      "_________________________________________________________________\n",
      "batch_normalization_2 (Batch (None, 100)               400       \n",
      "_________________________________________________________________\n",
      "dropout_2 (Dropout)          (None, 100)               0         \n",
      "_________________________________________________________________\n",
      "dense_3 (Dense)              (None, 1)                 101       \n",
      "=================================================================\n",
      "Total params: 1,771,101.0\n",
      "Trainable params: 1,770,701.0\n",
      "Non-trainable params: 400.0\n",
      "_________________________________________________________________\n",
      "None\n"
     ]
    }
   ],
   "source": [
    "def MLP():\n",
    "    model = Sequential()\n",
    "    model.add(Embedding(vocab_size,32,input_length=seq_len))\n",
    "    \n",
    "    model.add(Flatten())\n",
    "    model.add(Dense(100,activation='relu'))\n",
    "    model.add(BatchNormalization())\n",
    "    model.add(Dropout(0.5))\n",
    "    \n",
    "    model.add(Dense(100,activation='relu'))\n",
    "    model.add(BatchNormalization())\n",
    "    model.add(Dropout(0.5))\n",
    "    \n",
    "    model.add(Dense(1,activation='sigmoid'))\n",
    "\n",
    "    model.compile(loss='binary_crossentropy',optimizer=Adam(),metrics=['accuracy'])\n",
    "    print(model.summary())\n",
    "    \n",
    "    return model\n",
    "\n",
    "model = MLP()  "
   ]
  },
  {
   "cell_type": "markdown",
   "metadata": {},
   "source": [
    "#### Fitting"
   ]
  },
  {
   "cell_type": "code",
   "execution_count": 12,
   "metadata": {
    "collapsed": false
   },
   "outputs": [
    {
     "name": "stdout",
     "output_type": "stream",
     "text": [
      "Train on 25000 samples, validate on 25000 samples\n",
      "Epoch 1/5\n",
      "25000/25000 [==============================] - 7s - loss: 0.8065 - acc: 0.5169 - val_loss: 0.6754 - val_acc: 0.5281\n",
      "Epoch 2/5\n",
      "25000/25000 [==============================] - 5s - loss: 0.3821 - acc: 0.8297 - val_loss: 0.3207 - val_acc: 0.8616\n",
      "Epoch 3/5\n",
      "25000/25000 [==============================] - 5s - loss: 0.1873 - acc: 0.9295 - val_loss: 0.3852 - val_acc: 0.8514\n",
      "Epoch 4/5\n",
      "25000/25000 [==============================] - 5s - loss: 0.0894 - acc: 0.9696 - val_loss: 0.4803 - val_acc: 0.8511\n",
      "Epoch 5/5\n",
      "25000/25000 [==============================] - 5s - loss: 0.0471 - acc: 0.9851 - val_loss: 0.5703 - val_acc: 0.8492\n"
     ]
    },
    {
     "data": {
      "text/plain": [
       "<keras.callbacks.History at 0x7f7e10ce25f8>"
      ]
     },
     "execution_count": 12,
     "metadata": {},
     "output_type": "execute_result"
    }
   ],
   "source": [
    "model.fit(trn, y_train, validation_data=(test, y_test), epochs=5, batch_size=64)"
   ]
  },
  {
   "cell_type": "markdown",
   "metadata": {},
   "source": [
    "#### Evaluating"
   ]
  },
  {
   "cell_type": "code",
   "execution_count": 13,
   "metadata": {
    "collapsed": false
   },
   "outputs": [
    {
     "name": "stdout",
     "output_type": "stream",
     "text": [
      "loss:  0.570253434144 - accuracy:  0.84924\n"
     ]
    }
   ],
   "source": [
    "scores = model.evaluate(test,y_test,verbose=0)\n",
    "print('loss: ', scores[0],'- accuracy: ', scores[1])"
   ]
  },
  {
   "cell_type": "markdown",
   "metadata": {},
   "source": [
    "# B - Using CNN\n",
    "A CNN is likely to work better, since it's designed to take advantage of ordered data. We'll need to use a 1D CNN, since a sequence of words is 1D."
   ]
  },
  {
   "cell_type": "code",
   "execution_count": 14,
   "metadata": {
    "collapsed": false
   },
   "outputs": [
    {
     "name": "stdout",
     "output_type": "stream",
     "text": [
      "_________________________________________________________________\n",
      "Layer (type)                 Output Shape              Param #   \n",
      "=================================================================\n",
      "embedding_2 (Embedding)      (None, 500, 32)           160000    \n",
      "_________________________________________________________________\n",
      "dropout_3 (Dropout)          (None, 500, 32)           0         \n",
      "_________________________________________________________________\n",
      "conv1d_1 (Conv1D)            (None, 500, 64)           10304     \n",
      "_________________________________________________________________\n",
      "dropout_4 (Dropout)          (None, 500, 64)           0         \n",
      "_________________________________________________________________\n",
      "max_pooling1d_1 (MaxPooling1 (None, 250, 64)           0         \n",
      "_________________________________________________________________\n",
      "flatten_2 (Flatten)          (None, 16000)             0         \n",
      "_________________________________________________________________\n",
      "dense_4 (Dense)              (None, 100)               1600100   \n",
      "_________________________________________________________________\n",
      "dropout_5 (Dropout)          (None, 100)               0         \n",
      "_________________________________________________________________\n",
      "dense_5 (Dense)              (None, 1)                 101       \n",
      "=================================================================\n",
      "Total params: 1,770,505.0\n",
      "Trainable params: 1,770,505.0\n",
      "Non-trainable params: 0.0\n",
      "_________________________________________________________________\n",
      "None\n"
     ]
    }
   ],
   "source": [
    "def CNN():\n",
    "    model = Sequential()\n",
    "    model.add(Embedding(vocab_size, 32, input_length=seq_len))\n",
    "    \n",
    "    model.add(Dropout(0.2))\n",
    "    model.add(Conv1D(64, 5, padding='same', activation='relu'))\n",
    "    model.add(Dropout(0.2))\n",
    "    model.add(MaxPooling1D())\n",
    "    \n",
    "    model.add(Flatten())\n",
    "    \n",
    "    model.add(Dense(100, activation='relu'))\n",
    "    model.add(Dropout(0.5))\n",
    "    model.add(Dense(1, activation='sigmoid'))\n",
    "    \n",
    "    model.compile(loss='binary_crossentropy',optimizer=Adam(),metrics=['accuracy'])\n",
    "    print(model.summary())\n",
    "    \n",
    "    return model\n",
    "\n",
    "model = CNN()"
   ]
  },
  {
   "cell_type": "markdown",
   "metadata": {},
   "source": [
    "#### Fitting"
   ]
  },
  {
   "cell_type": "code",
   "execution_count": 15,
   "metadata": {
    "collapsed": false
   },
   "outputs": [
    {
     "name": "stdout",
     "output_type": "stream",
     "text": [
      "Train on 25000 samples, validate on 25000 samples\n",
      "Epoch 1/6\n",
      "25000/25000 [==============================] - 8s - loss: 0.4423 - acc: 0.7714 - val_loss: 0.2714 - val_acc: 0.8873\n",
      "Epoch 2/6\n",
      "25000/25000 [==============================] - 7s - loss: 0.2335 - acc: 0.9114 - val_loss: 0.2625 - val_acc: 0.8896\n",
      "Epoch 3/6\n",
      "25000/25000 [==============================] - 7s - loss: 0.1840 - acc: 0.9312 - val_loss: 0.2642 - val_acc: 0.8911\n",
      "Epoch 4/6\n",
      "25000/25000 [==============================] - 7s - loss: 0.1543 - acc: 0.9428 - val_loss: 0.2876 - val_acc: 0.8866\n",
      "Epoch 5/6\n",
      "25000/25000 [==============================] - 7s - loss: 0.1228 - acc: 0.9556 - val_loss: 0.3222 - val_acc: 0.8767\n",
      "Epoch 6/6\n",
      "25000/25000 [==============================] - 7s - loss: 0.1025 - acc: 0.9631 - val_loss: 0.3513 - val_acc: 0.8791\n"
     ]
    },
    {
     "data": {
      "text/plain": [
       "<keras.callbacks.History at 0x7f7de974ff28>"
      ]
     },
     "execution_count": 15,
     "metadata": {},
     "output_type": "execute_result"
    }
   ],
   "source": [
    "model.fit(trn, y_train, validation_data=(test, y_test), epochs=6, batch_size=64)"
   ]
  },
  {
   "cell_type": "markdown",
   "metadata": {},
   "source": [
    "#### Evaluating"
   ]
  },
  {
   "cell_type": "code",
   "execution_count": 16,
   "metadata": {
    "collapsed": false
   },
   "outputs": [
    {
     "name": "stdout",
     "output_type": "stream",
     "text": [
      "loss:  0.351344470656 - accuracy:  0.87908\n"
     ]
    }
   ],
   "source": [
    "scores = model.evaluate(test,y_test,verbose=0)\n",
    "print('loss: ', scores[0],'- accuracy: ', scores[1])"
   ]
  },
  {
   "cell_type": "markdown",
   "metadata": {},
   "source": [
    "# C - Using multi-size CNN"
   ]
  },
  {
   "cell_type": "code",
   "execution_count": 17,
   "metadata": {
    "collapsed": false
   },
   "outputs": [
    {
     "name": "stderr",
     "output_type": "stream",
     "text": [
      "/home/ubuntu/anaconda3/envs/deepenv/lib/python3.5/site-packages/ipykernel/__main__.py:8: UserWarning: The `merge` function is deprecated and will be removed after 08/2017. Use instead layers from `keras.layers.merge`, e.g. `add`, `concatenate`, etc.\n",
      "/home/ubuntu/anaconda3/envs/deepenv/lib/python3.5/site-packages/keras/legacy/layers.py:456: UserWarning: The `Merge` layer is deprecated and will be removed after 08/2017. Use instead layers from `keras.layers.merge`, e.g. `add`, `concatenate`, etc.\n",
      "  name=name)\n"
     ]
    }
   ],
   "source": [
    "graph_in = Input ((vocab_size, 32))\n",
    "convs = [ ] \n",
    "for fsz in range (3, 6): \n",
    "    x = Conv1D(64, fsz, padding='same', activation=\"relu\")(graph_in)\n",
    "    x = MaxPooling1D()(x) \n",
    "    x = Flatten()(x) \n",
    "    convs.append(x)\n",
    "out = merge(inputs=convs,mode=\"concat\") \n",
    "graph = Model(graph_in, out)"
   ]
  },
  {
   "cell_type": "code",
   "execution_count": 18,
   "metadata": {
    "collapsed": false
   },
   "outputs": [
    {
     "name": "stdout",
     "output_type": "stream",
     "text": [
      "_________________________________________________________________\n",
      "Layer (type)                 Output Shape              Param #   \n",
      "=================================================================\n",
      "embedding_3 (Embedding)      (None, 500, 32)           160000    \n",
      "_________________________________________________________________\n",
      "dropout_6 (Dropout)          (None, 500, 32)           0         \n",
      "_________________________________________________________________\n",
      "model_1 (Model)              multiple                  24768     \n",
      "_________________________________________________________________\n",
      "dropout_7 (Dropout)          (None, 48000)             0         \n",
      "_________________________________________________________________\n",
      "dense_6 (Dense)              (None, 100)               4800100   \n",
      "_________________________________________________________________\n",
      "dropout_8 (Dropout)          (None, 100)               0         \n",
      "_________________________________________________________________\n",
      "dense_7 (Dense)              (None, 1)                 101       \n",
      "=================================================================\n",
      "Total params: 4,984,969.0\n",
      "Trainable params: 4,984,969.0\n",
      "Non-trainable params: 0.0\n",
      "_________________________________________________________________\n",
      "None\n"
     ]
    }
   ],
   "source": [
    "def multisize_CNN():\n",
    "    model = Sequential()\n",
    "    model.add(Embedding(vocab_size, 32,input_length=seq_len))\n",
    "    model.add(Dropout (0.2))\n",
    "    model.add(graph)\n",
    "    model.add(Dropout(0.5))\n",
    "    model.add(Dense(100, activation=\"relu\"))\n",
    "    model.add(Dropout(0.7))\n",
    "    model.add(Dense(1, activation='sigmoid'))\n",
    "    \n",
    "    model.compile(loss='binary_crossentropy',optimizer=Adam(),metrics=['accuracy'])\n",
    "    print(model.summary())\n",
    "    \n",
    "    return(model)\n",
    "\n",
    "model = multisize_CNN()"
   ]
  },
  {
   "cell_type": "markdown",
   "metadata": {},
   "source": [
    "#### Fitting"
   ]
  },
  {
   "cell_type": "code",
   "execution_count": 19,
   "metadata": {
    "collapsed": false
   },
   "outputs": [
    {
     "name": "stdout",
     "output_type": "stream",
     "text": [
      "Train on 25000 samples, validate on 25000 samples\n",
      "Epoch 1/5\n",
      "25000/25000 [==============================] - 18s - loss: 0.4434 - acc: 0.7693 - val_loss: 0.2886 - val_acc: 0.8802\n",
      "Epoch 2/5\n",
      "25000/25000 [==============================] - 17s - loss: 0.2529 - acc: 0.9056 - val_loss: 0.2588 - val_acc: 0.8942\n",
      "Epoch 3/5\n",
      "25000/25000 [==============================] - 17s - loss: 0.2065 - acc: 0.9240 - val_loss: 0.2705 - val_acc: 0.8901\n",
      "Epoch 4/5\n",
      "25000/25000 [==============================] - 17s - loss: 0.1819 - acc: 0.9346 - val_loss: 0.2806 - val_acc: 0.8862\n",
      "Epoch 5/5\n",
      "25000/25000 [==============================] - 17s - loss: 0.1555 - acc: 0.9444 - val_loss: 0.3111 - val_acc: 0.8841\n"
     ]
    },
    {
     "data": {
      "text/plain": [
       "<keras.callbacks.History at 0x7f7de8672fd0>"
      ]
     },
     "execution_count": 19,
     "metadata": {},
     "output_type": "execute_result"
    }
   ],
   "source": [
    "model.fit(trn, y_train, validation_data=(test, y_test), epochs=5, batch_size=64)"
   ]
  },
  {
   "cell_type": "markdown",
   "metadata": {},
   "source": [
    "#### Evaluating"
   ]
  },
  {
   "cell_type": "code",
   "execution_count": 20,
   "metadata": {
    "collapsed": false
   },
   "outputs": [
    {
     "name": "stdout",
     "output_type": "stream",
     "text": [
      "loss:  0.311121658216 - accuracy:  0.88412\n"
     ]
    }
   ],
   "source": [
    "scores = model.evaluate(test,y_test,verbose=0)\n",
    "print('loss: ', scores[0],'- accuracy: ', scores[1])"
   ]
  },
  {
   "cell_type": "markdown",
   "metadata": {},
   "source": [
    "## Visual Checking"
   ]
  },
  {
   "cell_type": "code",
   "execution_count": 33,
   "metadata": {
    "collapsed": true
   },
   "outputs": [],
   "source": [
    "predictions = model.predict(test[:10],1)\n",
    "predictions = np.round(predictions).astype('int')"
   ]
  },
  {
   "cell_type": "code",
   "execution_count": 34,
   "metadata": {
    "collapsed": true
   },
   "outputs": [],
   "source": [
    "text = get_text(x_test, 10)\n",
    "preds = get_label_txt(predictions[:10])\n",
    "true = get_label_txt(y_test[0:10])"
   ]
  },
  {
   "cell_type": "code",
   "execution_count": 40,
   "metadata": {
    "collapsed": false
   },
   "outputs": [
    {
     "name": "stdout",
     "output_type": "stream",
     "text": [
      "*******************************************************************************\n",
      "TEXT n° 1  -- TRUE label: Positive  -- PREDICTED label: Positive\n",
      "-------------------------------------------------------------------------------\n",
      "<START> how his charter evolved as both man and ape was outstanding not to mention the scenery of the film christopher lambert was astonishing as lord of greystoke christopher is the soul to this masterpiece i became so with his performance i could feel my heart pounding the of the movie still moves me to this day his portrayal of john was oscar worthy as he should have been nominated for it\n",
      "*******************************************************************************\n",
      "*******************************************************************************\n",
      "TEXT n° 2  -- TRUE label: Positive  -- PREDICTED label: Positive\n",
      "-------------------------------------------------------------------------------\n",
      "<START> bride of chucky starts late one night as officer bob bailey vince sneaks into the evidence room at his police station amongst all the horror film in joke props he steals the remains of the chucky doll that serial killer charles lee ray possessed way back in the original child's play 1988 he drives the remains to an isolated area where ray's ex girlfriend tiffany jennifer tilly slashes bailey's throat takes the remains back to her trailer there tiffany stitches staples chucky voiced by brad dourif back together again using a 'voodoo for book brings him back to murderous life thing don't go as tiffany had hoped chucky turns out not to be the man of her dreams after all so she locks him in a play pen at which chucky is less than happy while tiffany takes a bath chucky escapes electrocutes her using that book brings her back to life in the shape of a female doll dressed as a bride neither want to be stuck in plastic bodies have to work together to get to a cemetery in new jersey where ray's natural body had been buried with the amulet needed to switch their spirits back into human bodies the bodies of tiffany's neighbour jesse nick his girlfriend jade katherine heigl who are both on the run from corrupt uncle chief of police warren kincaid john ritter will do nicely br br directed by ronny yu i love bride of chucky the script by don mancini is great fun very fast moving highly entertaining references plenty of other horror film with good affection from the opening sequence where we see jason voorhees hockey mask from the friday the 13th films freddy krueger's razor blade glove from the a nightmare on elm street series michael myers mask from the halloween franchise to the clips used from bride of frankenstein 1935 when it virtually recreates the same scene bride of chucky never takes itself seriously which is just as well there are lots of one liners self referential gags that scream 1996 made trendy a few years earlier it doesn't seem afraid to poke fun at itself the horror genre in general i love the scene when jesse jade are having a clichéd slushy romantic conversation that chucky hears he makes funny derogatory comments gestures throughout that's not to say that there isn't a damn good film in there as well because there most certainly is director yu manages to create good atmosphere a real sense of fun both human plastic sets of characters are likable shine as each pair suffer their own sets of domestic problems that the trail of corpses that they are leaving behind would obviously cause technically bride of chucky is great for the most part has that big budget polish about it at about 25 000 000 i should hope so the only thing that i will say is that some of the puppet effects by kevin are a little stiff unconvincing i can't remember any cgi scenes in bride of chucky either thankfully the film doesn't neglect the blood gore with a cool slit throat nails blasted into someone's face in presumably a hellraiser 1987 homage people impaled on shards of glass someone being obliterated by a huge truck a ripped off lip piercing various stabbings gunshots the acting is pretty good dourif as chucky is very funny as he spouts the one liners out i also like the scenes with tiffany at the beginning find her very sexy when she's wearing all that fetish gear i can't be the only one surely i personally think bride of chucky is a fantastic film total entertainment from start to finish great humour horror in equal measure at only 85 minutes long it never becomes boring or dull a personal favourite of mine watch it as soon as you can\n",
      "*******************************************************************************\n",
      "*******************************************************************************\n",
      "TEXT n° 3  -- TRUE label: Positive  -- PREDICTED label: Positive\n",
      "-------------------------------------------------------------------------------\n",
      "<START> kate played by one of the most nominated actresses of the last decade of this century and also one of the most talented actresses meryl streep out of africa she is wonderful is every part that she plays the yale graduate is the pride and joy of the american cinema br br kate's health is deteriorating and her husband george role well developed by brilliant actor and also oscar winner william hurt smoke kiss of the spider woman has a hard time with the deteriorating health of his one true thing and seeks his daughter's help the poor daughter ellen renée zellweger jerry maguire has way too much expected of her no breaks the story takes a very realistic view on the illness of a parent in this movie the only daughter has to put her life on hold to care for the needs of others there is always one in every family who faces that kind of responsibility ellen is angry the beginning of the movie but as time passes she ends up understanding her mothers' life time dedication to her family she even asks her mom how do you do his every day in and out and nobody notices it that is what women do a lot of what i call invisible work moreover we clean we fix we mend we stretch we celebrate we are the best friends we are the mistress sensitive some of us like both women in this movie have the perfect education are the psychological pillar for the entire family and also do all that invisible work that is kate ellen and many women in our society many of us have already gone through that stage of life when our parents age and died i have been there they just went too young i have given my parents my thanks but i never understood them as well as when i had to play their roles and had to walk in their shoes this movie mirrors the reality of life perhaps it is sad but that is how life is at times george a professor at harvard is complicated person who appears to think that his work is more important than everybody else and has a very master servant mentality toward the women in his life he is not strong enough to cope if you want to see good acting and the reality of life do not miss this movie favorite scenes the restaurant coming to kate violins and all the making of a table out of broken china that i so symbolic we are all broken vessels favorite quotes george it is only by going uphill that you realize that you are really going downhill george you have a harvard education but where is your heart br br\n",
      "*******************************************************************************\n",
      "*******************************************************************************\n",
      "TEXT n° 4  -- TRUE label: Positive  -- PREDICTED label: Positive\n",
      "-------------------------------------------------------------------------------\n",
      "<START> i loved it it was really gruesome and disgusting i thought that the tearing of the human flesh was thoroughly the way that it was depicting the human crucifix about jesus christ was really interesting the tearing about limbs and jaws was awesome brutally gruesome don't watch this if you have a weak heart you wouldn't be able to stand it\n",
      "*******************************************************************************\n",
      "*******************************************************************************\n",
      "TEXT n° 5  -- TRUE label: Positive  -- PREDICTED label: Positive\n",
      "-------------------------------------------------------------------------------\n",
      "<START> it is a very great film documentary about istanbul and their people and it's music of every kind editing and the success of the director is very impressive i've been interested with faith akin since i saw the gegen die wand head on 305 and i admired his work very much but this one has been the most touching one for me so i'm here writing this it is not just about turks or something like that it is a very good biography of a city and how music stay alive in it we can say there are views of many people and so very variant ideas about even life and love i liked it very much and i thing anyone and everyone should see it not only but especially the ones anyhow related with turkey\n",
      "*******************************************************************************\n",
      "*******************************************************************************\n",
      "TEXT n° 6  -- TRUE label: Negative  -- PREDICTED label: Negative\n",
      "-------------------------------------------------------------------------------\n",
      "<START> this movie has good intentions at least in the message don't be afraid no matter how tough it can be fear will kill you in the end it's a good message but the container is so flawed that the message gets squashed by bad acting complete lack of credibility in the feelings dialog that's delivered as if it were read out loud stereotypes instead of breathing living people br br it abuses from effects such as slow motion to compensate for a complete lack of credibility in the acting and thus a lack of emotional force br br the suicidal part of it still reminds me of a low budget film from the pre 90s when lesbians seemed to have at least on celluloid an utter incapacity of live good happy lives and a tendency to get caught in over the top dramas that often involved separation death or prison br br had it focused on the rewards of living life according to how we feel it and not according to how others think we should live it it would have being less dramatic more inspiring but it doesn't it focuses of pain on loss and leaves the message at just a theoretical ideal br br i can't see how this movie can be an inspiration to anyone to come out or overcome fear and rejection br br if you're looking for a really good movie that talks about overcoming fear and daring to live what you feel go back to the magnificent desert hearts even better read the novel\n",
      "*******************************************************************************\n",
      "*******************************************************************************\n",
      "TEXT n° 7  -- TRUE label: Negative  -- PREDICTED label: Negative\n",
      "-------------------------------------------------------------------------------\n",
      "<START> this movie is horrible you won't believe this hunk of junk is even a movie was better then this and was pretty frigging bad too a bunch of stupid teens crash in a desert find an old run down bungalow and end up fending off horrifically badly stop motion animated spiders pardon my french but the acting was bad as hell the person who wrote this probably didn't even know what a spider is because he had the spiders living in a colony serving an alien queen ripoff queen spider spiders do not live in colonies this movie is a piece of crud at the end the marines suddenly pop out of no where and kill all the spider without even being called if you see a copy of this movie at a video store it in gasoline and throw a match at it\n",
      "*******************************************************************************\n",
      "*******************************************************************************\n",
      "TEXT n° 8  -- TRUE label: Negative  -- PREDICTED label: Negative\n",
      "-------------------------------------------------------------------------------\n",
      "<START> it's nice that these three young directors have produced films with good productions values and decent acting there's some good work here br br unfortunately they suffer from what much of modern gay cinema recycled plots too familiar devices i have seen the pool setting way too many times in gay male films and hackneyed scripts most egregious of all is dorothy whose preposterous premise is that a cute young guy will have trouble getting laid in nyc due to a shortage of identifiable gay guys in his vicinity br br in terms of cinema these shorts play like tacky little gay afterschool specials not a lot of imagination in their writing or execution basically they follow a point and shoot shot reaction shot master shot convention which becomes painfully dull after five or so minutes there's hope for queer cinema in the works of todd haynes sadie benning and the late great marlon riggs but not here these films are incredibly middlebrow singularly whitebread and their values basically pander to a gay bourgeois sensibility which is probably why they play so well at gay film festivals\n",
      "*******************************************************************************\n",
      "*******************************************************************************\n",
      "TEXT n° 9  -- TRUE label: Positive  -- PREDICTED label: Positive\n",
      "-------------------------------------------------------------------------------\n",
      "<START> excellent and highly under rated from beginning to end one of oliver's best well scripted directed shot acted and soundtrack trivia the music during the end credits vaguely sounds like a late 90's pop hit by band br br eric and cast are brilliant let alone the callers what a whirlwind of emotions it make's your hair stand on end necks will be broke and whips will crack in a old female southern accent creepy scary than any horror movie br br 10 out of 10 br br em\n",
      "*******************************************************************************\n",
      "*******************************************************************************\n",
      "TEXT n° 10  -- TRUE label: Positive  -- PREDICTED label: Positive\n",
      "-------------------------------------------------------------------------------\n",
      "<START> i did not expect to enjoy this in truth i watched it because a friend knew a friend knew a friend who wrote the script but wasn't credited knowing dylan thomas and really being appreciative of his poetry but aware and rather disconcerted by the man i didn't feel i needed to see a twee adaption of his lame bohemian life laid bare and this was not it critical and yet appreciative it was it made me cry kiera knightley was superb even with that slightly strained welsh accent and it is a sad tale that they tell dylan thomas is not the hero as sadly he was not throughout his life and neither really are the so called woman' of the pr spiel it is cillian the william of the movie a man that leaves the woman he loves to fight a war that they ignore his challenge to with that indifference is what is of real interest to this film and what a beautiful performance from that actor i this film is underrated because it was marketed so badly dylan thomas fans will expect something more from their so very flawed hero and get less and well that is how it was marketed it is not a film about dylan thomas and it is much more interesting for it\n",
      "*******************************************************************************\n"
     ]
    }
   ],
   "source": [
    "for i in range(10):\n",
    "    print('*******************************************************************************')\n",
    "    print('TEXT n°', i + 1, ' -- TRUE label:', true[i], ' -- PREDICTED label:', preds[i])\n",
    "    print('-------------------------------------------------------------------------------')\n",
    "    print(text[i])\n",
    "    print('*******************************************************************************')"
   ]
  },
  {
   "cell_type": "markdown",
   "metadata": {},
   "source": [
    "# D. Using LSTM"
   ]
  },
  {
   "cell_type": "code",
   "execution_count": 19,
   "metadata": {
    "collapsed": false,
    "scrolled": true
   },
   "outputs": [
    {
     "name": "stdout",
     "output_type": "stream",
     "text": [
      "_________________________________________________________________\n",
      "Layer (type)                 Output Shape              Param #   \n",
      "=================================================================\n",
      "embedding_2 (Embedding)      (None, 500, 5)            25000     \n",
      "_________________________________________________________________\n",
      "lstm_1 (LSTM)                (None, 50)                11200     \n",
      "_________________________________________________________________\n",
      "dropout_2 (Dropout)          (None, 50)                0         \n",
      "_________________________________________________________________\n",
      "dense_2 (Dense)              (None, 1)                 51        \n",
      "=================================================================\n",
      "Total params: 36,251.0\n",
      "Trainable params: 36,251.0\n",
      "Non-trainable params: 0.0\n",
      "_________________________________________________________________\n",
      "None\n"
     ]
    }
   ],
   "source": [
    "def RNN_LSTM():\n",
    "    model = Sequential()\n",
    "    model.add(Embedding(vocab_size,5,input_length=seq_len))\n",
    "    model.add(LSTM(50))\n",
    "    model.add(Dropout(0.25))\n",
    "    model.add(Dense(1,activation='sigmoid'))\n",
    "\n",
    "    model.compile(loss='binary_crossentropy',optimizer=Adam(),metrics=['accuracy'])\n",
    "    print(model.summary())\n",
    "    \n",
    "    return model\n",
    "\n",
    "model = RNN_LSTM()       "
   ]
  },
  {
   "cell_type": "markdown",
   "metadata": {},
   "source": [
    "#### Fitting"
   ]
  },
  {
   "cell_type": "code",
   "execution_count": 20,
   "metadata": {
    "collapsed": false
   },
   "outputs": [
    {
     "name": "stdout",
     "output_type": "stream",
     "text": [
      "Train on 25000 samples, validate on 25000 samples\n",
      "Epoch 1/4\n",
      "25000/25000 [==============================] - 364s - loss: 0.5407 - acc: 0.7190 - val_loss: 0.3395 - val_acc: 0.8560\n",
      "Epoch 2/4\n",
      "25000/25000 [==============================] - 363s - loss: 0.3010 - acc: 0.8782 - val_loss: 0.3546 - val_acc: 0.8508\n",
      "Epoch 3/4\n",
      "25000/25000 [==============================] - 362s - loss: 0.2411 - acc: 0.9074 - val_loss: 0.2995 - val_acc: 0.8839\n",
      "Epoch 4/4\n",
      "25000/25000 [==============================] - 363s - loss: 0.2213 - acc: 0.9158 - val_loss: 0.3110 - val_acc: 0.8774\n"
     ]
    },
    {
     "data": {
      "text/plain": [
       "<keras.callbacks.History at 0x7f7f22b9fef0>"
      ]
     },
     "execution_count": 20,
     "metadata": {},
     "output_type": "execute_result"
    }
   ],
   "source": [
    "model.fit(trn, y_train, validation_data=(test, y_test), epochs=4, batch_size=64)"
   ]
  },
  {
   "cell_type": "markdown",
   "metadata": {},
   "source": [
    "#### Evaluating"
   ]
  },
  {
   "cell_type": "code",
   "execution_count": 21,
   "metadata": {
    "collapsed": false
   },
   "outputs": [
    {
     "name": "stdout",
     "output_type": "stream",
     "text": [
      "loss:  0.310951983457 - accuracy:  0.8774\n"
     ]
    }
   ],
   "source": [
    "scores = model.evaluate(test,y_test,verbose=0)\n",
    "print('loss: ', scores[0],'- accuracy: ', scores[1])"
   ]
  },
  {
   "cell_type": "markdown",
   "metadata": {},
   "source": [
    "## Visual Checking"
   ]
  },
  {
   "cell_type": "code",
   "execution_count": 22,
   "metadata": {
    "collapsed": false
   },
   "outputs": [],
   "source": [
    "predictions = model.predict(test[:10],1)\n",
    "predictions = np.round(predictions).astype('int')"
   ]
  },
  {
   "cell_type": "code",
   "execution_count": 23,
   "metadata": {
    "collapsed": true
   },
   "outputs": [],
   "source": [
    "text = get_text(x_test, 10)\n",
    "preds = get_label_txt(predictions[:10])\n",
    "true = get_label_txt(y_test[:10])"
   ]
  },
  {
   "cell_type": "code",
   "execution_count": 24,
   "metadata": {
    "collapsed": false
   },
   "outputs": [
    {
     "name": "stdout",
     "output_type": "stream",
     "text": [
      "*******************************************************************************\n",
      "TEXT n° 1  -- TRUE label: Positive  -- PREDICTED label: Positive\n",
      "-------------------------------------------------------------------------------\n",
      "<START> how his charter evolved as both man and ape was outstanding not to mention the scenery of the film christopher lambert was astonishing as lord of greystoke christopher is the soul to this masterpiece i became so with his performance i could feel my heart pounding the of the movie still moves me to this day his portrayal of john was oscar worthy as he should have been nominated for it\n",
      "*******************************************************************************\n",
      "*******************************************************************************\n",
      "TEXT n° 2  -- TRUE label: Positive  -- PREDICTED label: Negative\n",
      "-------------------------------------------------------------------------------\n",
      "<START> bride of chucky starts late one night as officer bob bailey vince sneaks into the evidence room at his police station amongst all the horror film in joke props he steals the remains of the chucky doll that serial killer charles lee ray possessed way back in the original child's play 1988 he drives the remains to an isolated area where ray's ex girlfriend tiffany jennifer tilly slashes bailey's throat takes the remains back to her trailer there tiffany stitches staples chucky voiced by brad dourif back together again using a 'voodoo for book brings him back to murderous life thing don't go as tiffany had hoped chucky turns out not to be the man of her dreams after all so she locks him in a play pen at which chucky is less than happy while tiffany takes a bath chucky escapes electrocutes her using that book brings her back to life in the shape of a female doll dressed as a bride neither want to be stuck in plastic bodies have to work together to get to a cemetery in new jersey where ray's natural body had been buried with the amulet needed to switch their spirits back into human bodies the bodies of tiffany's neighbour jesse nick his girlfriend jade katherine heigl who are both on the run from corrupt uncle chief of police warren kincaid john ritter will do nicely br br directed by ronny yu i love bride of chucky the script by don mancini is great fun very fast moving highly entertaining references plenty of other horror film with good affection from the opening sequence where we see jason voorhees hockey mask from the friday the 13th films freddy krueger's razor blade glove from the a nightmare on elm street series michael myers mask from the halloween franchise to the clips used from bride of frankenstein 1935 when it virtually recreates the same scene bride of chucky never takes itself seriously which is just as well there are lots of one liners self referential gags that scream 1996 made trendy a few years earlier it doesn't seem afraid to poke fun at itself the horror genre in general i love the scene when jesse jade are having a clichéd slushy romantic conversation that chucky hears he makes funny derogatory comments gestures throughout that's not to say that there isn't a damn good film in there as well because there most certainly is director yu manages to create good atmosphere a real sense of fun both human plastic sets of characters are likable shine as each pair suffer their own sets of domestic problems that the trail of corpses that they are leaving behind would obviously cause technically bride of chucky is great for the most part has that big budget polish about it at about 25 000 000 i should hope so the only thing that i will say is that some of the puppet effects by kevin are a little stiff unconvincing i can't remember any cgi scenes in bride of chucky either thankfully the film doesn't neglect the blood gore with a cool slit throat nails blasted into someone's face in presumably a hellraiser 1987 homage people impaled on shards of glass someone being obliterated by a huge truck a ripped off lip piercing various stabbings gunshots the acting is pretty good dourif as chucky is very funny as he spouts the one liners out i also like the scenes with tiffany at the beginning find her very sexy when she's wearing all that fetish gear i can't be the only one surely i personally think bride of chucky is a fantastic film total entertainment from start to finish great humour horror in equal measure at only 85 minutes long it never becomes boring or dull a personal favourite of mine watch it as soon as you can\n",
      "*******************************************************************************\n",
      "*******************************************************************************\n",
      "TEXT n° 3  -- TRUE label: Positive  -- PREDICTED label: Positive\n",
      "-------------------------------------------------------------------------------\n",
      "<START> kate played by one of the most nominated actresses of the last decade of this century and also one of the most talented actresses meryl streep out of africa she is wonderful is every part that she plays the yale graduate is the pride and joy of the american cinema br br kate's health is deteriorating and her husband george role well developed by brilliant actor and also oscar winner william hurt smoke kiss of the spider woman has a hard time with the deteriorating health of his one true thing and seeks his daughter's help the poor daughter ellen renée zellweger jerry maguire has way too much expected of her no breaks the story takes a very realistic view on the illness of a parent in this movie the only daughter has to put her life on hold to care for the needs of others there is always one in every family who faces that kind of responsibility ellen is angry the beginning of the movie but as time passes she ends up understanding her mothers' life time dedication to her family she even asks her mom how do you do his every day in and out and nobody notices it that is what women do a lot of what i call invisible work moreover we clean we fix we mend we stretch we celebrate we are the best friends we are the mistress sensitive some of us like both women in this movie have the perfect education are the psychological pillar for the entire family and also do all that invisible work that is kate ellen and many women in our society many of us have already gone through that stage of life when our parents age and died i have been there they just went too young i have given my parents my thanks but i never understood them as well as when i had to play their roles and had to walk in their shoes this movie mirrors the reality of life perhaps it is sad but that is how life is at times george a professor at harvard is complicated person who appears to think that his work is more important than everybody else and has a very master servant mentality toward the women in his life he is not strong enough to cope if you want to see good acting and the reality of life do not miss this movie favorite scenes the restaurant coming to kate violins and all the making of a table out of broken china that i so symbolic we are all broken vessels favorite quotes george it is only by going uphill that you realize that you are really going downhill george you have a harvard education but where is your heart br br\n",
      "*******************************************************************************\n",
      "*******************************************************************************\n",
      "TEXT n° 4  -- TRUE label: Positive  -- PREDICTED label: Positive\n",
      "-------------------------------------------------------------------------------\n",
      "<START> i loved it it was really gruesome and disgusting i thought that the tearing of the human flesh was thoroughly the way that it was depicting the human crucifix about jesus christ was really interesting the tearing about limbs and jaws was awesome brutally gruesome don't watch this if you have a weak heart you wouldn't be able to stand it\n",
      "*******************************************************************************\n",
      "*******************************************************************************\n",
      "TEXT n° 5  -- TRUE label: Positive  -- PREDICTED label: Positive\n",
      "-------------------------------------------------------------------------------\n",
      "<START> it is a very great film documentary about istanbul and their people and it's music of every kind editing and the success of the director is very impressive i've been interested with faith akin since i saw the gegen die wand head on 305 and i admired his work very much but this one has been the most touching one for me so i'm here writing this it is not just about turks or something like that it is a very good biography of a city and how music stay alive in it we can say there are views of many people and so very variant ideas about even life and love i liked it very much and i thing anyone and everyone should see it not only but especially the ones anyhow related with turkey\n",
      "*******************************************************************************\n",
      "*******************************************************************************\n",
      "TEXT n° 6  -- TRUE label: Negative  -- PREDICTED label: Negative\n",
      "-------------------------------------------------------------------------------\n",
      "<START> this movie has good intentions at least in the message don't be afraid no matter how tough it can be fear will kill you in the end it's a good message but the container is so flawed that the message gets squashed by bad acting complete lack of credibility in the feelings dialog that's delivered as if it were read out loud stereotypes instead of breathing living people br br it abuses from effects such as slow motion to compensate for a complete lack of credibility in the acting and thus a lack of emotional force br br the suicidal part of it still reminds me of a low budget film from the pre 90s when lesbians seemed to have at least on celluloid an utter incapacity of live good happy lives and a tendency to get caught in over the top dramas that often involved separation death or prison br br had it focused on the rewards of living life according to how we feel it and not according to how others think we should live it it would have being less dramatic more inspiring but it doesn't it focuses of pain on loss and leaves the message at just a theoretical ideal br br i can't see how this movie can be an inspiration to anyone to come out or overcome fear and rejection br br if you're looking for a really good movie that talks about overcoming fear and daring to live what you feel go back to the magnificent desert hearts even better read the novel\n",
      "*******************************************************************************\n",
      "*******************************************************************************\n",
      "TEXT n° 7  -- TRUE label: Negative  -- PREDICTED label: Negative\n",
      "-------------------------------------------------------------------------------\n",
      "<START> this movie is horrible you won't believe this hunk of junk is even a movie was better then this and was pretty frigging bad too a bunch of stupid teens crash in a desert find an old run down bungalow and end up fending off horrifically badly stop motion animated spiders pardon my french but the acting was bad as hell the person who wrote this probably didn't even know what a spider is because he had the spiders living in a colony serving an alien queen ripoff queen spider spiders do not live in colonies this movie is a piece of crud at the end the marines suddenly pop out of no where and kill all the spider without even being called if you see a copy of this movie at a video store it in gasoline and throw a match at it\n",
      "*******************************************************************************\n",
      "*******************************************************************************\n",
      "TEXT n° 8  -- TRUE label: Negative  -- PREDICTED label: Negative\n",
      "-------------------------------------------------------------------------------\n",
      "<START> it's nice that these three young directors have produced films with good productions values and decent acting there's some good work here br br unfortunately they suffer from what much of modern gay cinema recycled plots too familiar devices i have seen the pool setting way too many times in gay male films and hackneyed scripts most egregious of all is dorothy whose preposterous premise is that a cute young guy will have trouble getting laid in nyc due to a shortage of identifiable gay guys in his vicinity br br in terms of cinema these shorts play like tacky little gay afterschool specials not a lot of imagination in their writing or execution basically they follow a point and shoot shot reaction shot master shot convention which becomes painfully dull after five or so minutes there's hope for queer cinema in the works of todd haynes sadie benning and the late great marlon riggs but not here these films are incredibly middlebrow singularly whitebread and their values basically pander to a gay bourgeois sensibility which is probably why they play so well at gay film festivals\n",
      "*******************************************************************************\n",
      "*******************************************************************************\n",
      "TEXT n° 9  -- TRUE label: Positive  -- PREDICTED label: Positive\n",
      "-------------------------------------------------------------------------------\n",
      "<START> excellent and highly under rated from beginning to end one of oliver's best well scripted directed shot acted and soundtrack trivia the music during the end credits vaguely sounds like a late 90's pop hit by band br br eric and cast are brilliant let alone the callers what a whirlwind of emotions it make's your hair stand on end necks will be broke and whips will crack in a old female southern accent creepy scary than any horror movie br br 10 out of 10 br br em\n",
      "*******************************************************************************\n",
      "*******************************************************************************\n",
      "TEXT n° 10  -- TRUE label: Positive  -- PREDICTED label: Positive\n",
      "-------------------------------------------------------------------------------\n",
      "<START> i did not expect to enjoy this in truth i watched it because a friend knew a friend knew a friend who wrote the script but wasn't credited knowing dylan thomas and really being appreciative of his poetry but aware and rather disconcerted by the man i didn't feel i needed to see a twee adaption of his lame bohemian life laid bare and this was not it critical and yet appreciative it was it made me cry kiera knightley was superb even with that slightly strained welsh accent and it is a sad tale that they tell dylan thomas is not the hero as sadly he was not throughout his life and neither really are the so called woman' of the pr spiel it is cillian the william of the movie a man that leaves the woman he loves to fight a war that they ignore his challenge to with that indifference is what is of real interest to this film and what a beautiful performance from that actor i this film is underrated because it was marketed so badly dylan thomas fans will expect something more from their so very flawed hero and get less and well that is how it was marketed it is not a film about dylan thomas and it is much more interesting for it\n",
      "*******************************************************************************\n"
     ]
    }
   ],
   "source": [
    "for i in range(10):\n",
    "    print('*******************************************************************************')\n",
    "    print('TEXT n°', i + 1, ' -- TRUE label:',  true[i], ' -- PREDICTED label:', preds[i])\n",
    "    print('-------------------------------------------------------------------------------')\n",
    "    print(text[i])\n",
    "    print('*******************************************************************************')"
   ]
  },
  {
   "cell_type": "markdown",
   "metadata": {},
   "source": [
    "# E. Using GRU"
   ]
  },
  {
   "cell_type": "code",
   "execution_count": 12,
   "metadata": {
    "collapsed": false
   },
   "outputs": [
    {
     "name": "stdout",
     "output_type": "stream",
     "text": [
      "_________________________________________________________________\n",
      "Layer (type)                 Output Shape              Param #   \n",
      "=================================================================\n",
      "embedding_1 (Embedding)      (None, 500, 5)            25000     \n",
      "_________________________________________________________________\n",
      "gru_1 (GRU)                  (None, 50)                8400      \n",
      "_________________________________________________________________\n",
      "dropout_1 (Dropout)          (None, 50)                0         \n",
      "_________________________________________________________________\n",
      "dense_1 (Dense)              (None, 1)                 51        \n",
      "=================================================================\n",
      "Total params: 33,451.0\n",
      "Trainable params: 33,451.0\n",
      "Non-trainable params: 0.0\n",
      "_________________________________________________________________\n",
      "None\n"
     ]
    }
   ],
   "source": [
    "def RNN_GRU():\n",
    "    model = Sequential()\n",
    "    model.add(Embedding(vocab_size,5,input_length=seq_len))\n",
    "    model.add(GRU(50))\n",
    "    model.add(Dropout(0.25))\n",
    "    model.add(Dense(1,activation='sigmoid'))\n",
    "\n",
    "    model.compile(loss='binary_crossentropy',optimizer=Adam(),metrics=['accuracy'])\n",
    "    print(model.summary())\n",
    "    \n",
    "    return model\n",
    "\n",
    "model = RNN_GRU()  "
   ]
  },
  {
   "cell_type": "markdown",
   "metadata": {},
   "source": [
    "#### Fitting"
   ]
  },
  {
   "cell_type": "code",
   "execution_count": 13,
   "metadata": {
    "collapsed": false
   },
   "outputs": [
    {
     "name": "stdout",
     "output_type": "stream",
     "text": [
      "Train on 25000 samples, validate on 25000 samples\n",
      "Epoch 1/4\n",
      "25000/25000 [==============================] - 294s - loss: 0.5123 - acc: 0.7284 - val_loss: 0.3555 - val_acc: 0.8498\n",
      "Epoch 2/4\n",
      "25000/25000 [==============================] - 290s - loss: 0.3066 - acc: 0.8748 - val_loss: 0.3199 - val_acc: 0.8628\n",
      "Epoch 3/4\n",
      "25000/25000 [==============================] - 289s - loss: 0.2487 - acc: 0.9045 - val_loss: 0.3223 - val_acc: 0.8700\n",
      "Epoch 4/4\n",
      "25000/25000 [==============================] - 286s - loss: 0.2219 - acc: 0.9160 - val_loss: 0.3511 - val_acc: 0.8672\n"
     ]
    },
    {
     "data": {
      "text/plain": [
       "<keras.callbacks.History at 0x7f7f404c1eb8>"
      ]
     },
     "execution_count": 13,
     "metadata": {},
     "output_type": "execute_result"
    }
   ],
   "source": [
    "model.fit(trn, y_train, validation_data=(test, y_test), epochs=4, batch_size=64)"
   ]
  },
  {
   "cell_type": "code",
   "execution_count": 14,
   "metadata": {
    "collapsed": false
   },
   "outputs": [
    {
     "name": "stdout",
     "output_type": "stream",
     "text": [
      "loss:  0.351130843825 - accuracy:  0.86724\n"
     ]
    }
   ],
   "source": [
    "scores = model.evaluate(test,y_test,verbose=0)\n",
    "print('loss: ', scores[0],'- accuracy: ', scores[1])"
   ]
  },
  {
   "cell_type": "markdown",
   "metadata": {},
   "source": [
    "# Visual Checking"
   ]
  },
  {
   "cell_type": "code",
   "execution_count": 15,
   "metadata": {
    "collapsed": true
   },
   "outputs": [],
   "source": [
    "predictions = model.predict(test[:10],1)\n",
    "predictions = np.round(predictions).astype('int')"
   ]
  },
  {
   "cell_type": "code",
   "execution_count": 16,
   "metadata": {
    "collapsed": true
   },
   "outputs": [],
   "source": [
    "text = get_text(x_test, 10)\n",
    "preds = get_label_txt(predictions[:10])\n",
    "true = get_label_txt(y_test[:10])"
   ]
  },
  {
   "cell_type": "code",
   "execution_count": 18,
   "metadata": {
    "collapsed": false
   },
   "outputs": [
    {
     "name": "stdout",
     "output_type": "stream",
     "text": [
      "*******************************************************************************\n",
      "TEXT n° 1  -- TRUE label: Positive  -- PREDICTED label: Positive\n",
      "-------------------------------------------------------------------------------\n",
      "<START> how his charter evolved as both man and ape was outstanding not to mention the scenery of the film christopher lambert was astonishing as lord of greystoke christopher is the soul to this masterpiece i became so with his performance i could feel my heart pounding the of the movie still moves me to this day his portrayal of john was oscar worthy as he should have been nominated for it\n",
      "*******************************************************************************\n",
      "*******************************************************************************\n",
      "TEXT n° 2  -- TRUE label: Positive  -- PREDICTED label: Negative\n",
      "-------------------------------------------------------------------------------\n",
      "<START> bride of chucky starts late one night as officer bob bailey vince sneaks into the evidence room at his police station amongst all the horror film in joke props he steals the remains of the chucky doll that serial killer charles lee ray possessed way back in the original child's play 1988 he drives the remains to an isolated area where ray's ex girlfriend tiffany jennifer tilly slashes bailey's throat takes the remains back to her trailer there tiffany stitches staples chucky voiced by brad dourif back together again using a 'voodoo for book brings him back to murderous life thing don't go as tiffany had hoped chucky turns out not to be the man of her dreams after all so she locks him in a play pen at which chucky is less than happy while tiffany takes a bath chucky escapes electrocutes her using that book brings her back to life in the shape of a female doll dressed as a bride neither want to be stuck in plastic bodies have to work together to get to a cemetery in new jersey where ray's natural body had been buried with the amulet needed to switch their spirits back into human bodies the bodies of tiffany's neighbour jesse nick his girlfriend jade katherine heigl who are both on the run from corrupt uncle chief of police warren kincaid john ritter will do nicely br br directed by ronny yu i love bride of chucky the script by don mancini is great fun very fast moving highly entertaining references plenty of other horror film with good affection from the opening sequence where we see jason voorhees hockey mask from the friday the 13th films freddy krueger's razor blade glove from the a nightmare on elm street series michael myers mask from the halloween franchise to the clips used from bride of frankenstein 1935 when it virtually recreates the same scene bride of chucky never takes itself seriously which is just as well there are lots of one liners self referential gags that scream 1996 made trendy a few years earlier it doesn't seem afraid to poke fun at itself the horror genre in general i love the scene when jesse jade are having a clichéd slushy romantic conversation that chucky hears he makes funny derogatory comments gestures throughout that's not to say that there isn't a damn good film in there as well because there most certainly is director yu manages to create good atmosphere a real sense of fun both human plastic sets of characters are likable shine as each pair suffer their own sets of domestic problems that the trail of corpses that they are leaving behind would obviously cause technically bride of chucky is great for the most part has that big budget polish about it at about 25 000 000 i should hope so the only thing that i will say is that some of the puppet effects by kevin are a little stiff unconvincing i can't remember any cgi scenes in bride of chucky either thankfully the film doesn't neglect the blood gore with a cool slit throat nails blasted into someone's face in presumably a hellraiser 1987 homage people impaled on shards of glass someone being obliterated by a huge truck a ripped off lip piercing various stabbings gunshots the acting is pretty good dourif as chucky is very funny as he spouts the one liners out i also like the scenes with tiffany at the beginning find her very sexy when she's wearing all that fetish gear i can't be the only one surely i personally think bride of chucky is a fantastic film total entertainment from start to finish great humour horror in equal measure at only 85 minutes long it never becomes boring or dull a personal favourite of mine watch it as soon as you can\n",
      "*******************************************************************************\n",
      "*******************************************************************************\n",
      "TEXT n° 3  -- TRUE label: Positive  -- PREDICTED label: Positive\n",
      "-------------------------------------------------------------------------------\n",
      "<START> kate played by one of the most nominated actresses of the last decade of this century and also one of the most talented actresses meryl streep out of africa she is wonderful is every part that she plays the yale graduate is the pride and joy of the american cinema br br kate's health is deteriorating and her husband george role well developed by brilliant actor and also oscar winner william hurt smoke kiss of the spider woman has a hard time with the deteriorating health of his one true thing and seeks his daughter's help the poor daughter ellen renée zellweger jerry maguire has way too much expected of her no breaks the story takes a very realistic view on the illness of a parent in this movie the only daughter has to put her life on hold to care for the needs of others there is always one in every family who faces that kind of responsibility ellen is angry the beginning of the movie but as time passes she ends up understanding her mothers' life time dedication to her family she even asks her mom how do you do his every day in and out and nobody notices it that is what women do a lot of what i call invisible work moreover we clean we fix we mend we stretch we celebrate we are the best friends we are the mistress sensitive some of us like both women in this movie have the perfect education are the psychological pillar for the entire family and also do all that invisible work that is kate ellen and many women in our society many of us have already gone through that stage of life when our parents age and died i have been there they just went too young i have given my parents my thanks but i never understood them as well as when i had to play their roles and had to walk in their shoes this movie mirrors the reality of life perhaps it is sad but that is how life is at times george a professor at harvard is complicated person who appears to think that his work is more important than everybody else and has a very master servant mentality toward the women in his life he is not strong enough to cope if you want to see good acting and the reality of life do not miss this movie favorite scenes the restaurant coming to kate violins and all the making of a table out of broken china that i so symbolic we are all broken vessels favorite quotes george it is only by going uphill that you realize that you are really going downhill george you have a harvard education but where is your heart br br\n",
      "*******************************************************************************\n",
      "*******************************************************************************\n",
      "TEXT n° 4  -- TRUE label: Positive  -- PREDICTED label: Positive\n",
      "-------------------------------------------------------------------------------\n",
      "<START> i loved it it was really gruesome and disgusting i thought that the tearing of the human flesh was thoroughly the way that it was depicting the human crucifix about jesus christ was really interesting the tearing about limbs and jaws was awesome brutally gruesome don't watch this if you have a weak heart you wouldn't be able to stand it\n",
      "*******************************************************************************\n",
      "*******************************************************************************\n",
      "TEXT n° 5  -- TRUE label: Positive  -- PREDICTED label: Positive\n",
      "-------------------------------------------------------------------------------\n",
      "<START> it is a very great film documentary about istanbul and their people and it's music of every kind editing and the success of the director is very impressive i've been interested with faith akin since i saw the gegen die wand head on 305 and i admired his work very much but this one has been the most touching one for me so i'm here writing this it is not just about turks or something like that it is a very good biography of a city and how music stay alive in it we can say there are views of many people and so very variant ideas about even life and love i liked it very much and i thing anyone and everyone should see it not only but especially the ones anyhow related with turkey\n",
      "*******************************************************************************\n",
      "*******************************************************************************\n",
      "TEXT n° 6  -- TRUE label: Negative  -- PREDICTED label: Negative\n",
      "-------------------------------------------------------------------------------\n",
      "<START> this movie has good intentions at least in the message don't be afraid no matter how tough it can be fear will kill you in the end it's a good message but the container is so flawed that the message gets squashed by bad acting complete lack of credibility in the feelings dialog that's delivered as if it were read out loud stereotypes instead of breathing living people br br it abuses from effects such as slow motion to compensate for a complete lack of credibility in the acting and thus a lack of emotional force br br the suicidal part of it still reminds me of a low budget film from the pre 90s when lesbians seemed to have at least on celluloid an utter incapacity of live good happy lives and a tendency to get caught in over the top dramas that often involved separation death or prison br br had it focused on the rewards of living life according to how we feel it and not according to how others think we should live it it would have being less dramatic more inspiring but it doesn't it focuses of pain on loss and leaves the message at just a theoretical ideal br br i can't see how this movie can be an inspiration to anyone to come out or overcome fear and rejection br br if you're looking for a really good movie that talks about overcoming fear and daring to live what you feel go back to the magnificent desert hearts even better read the novel\n",
      "*******************************************************************************\n",
      "*******************************************************************************\n",
      "TEXT n° 7  -- TRUE label: Negative  -- PREDICTED label: Negative\n",
      "-------------------------------------------------------------------------------\n",
      "<START> this movie is horrible you won't believe this hunk of junk is even a movie was better then this and was pretty frigging bad too a bunch of stupid teens crash in a desert find an old run down bungalow and end up fending off horrifically badly stop motion animated spiders pardon my french but the acting was bad as hell the person who wrote this probably didn't even know what a spider is because he had the spiders living in a colony serving an alien queen ripoff queen spider spiders do not live in colonies this movie is a piece of crud at the end the marines suddenly pop out of no where and kill all the spider without even being called if you see a copy of this movie at a video store it in gasoline and throw a match at it\n",
      "*******************************************************************************\n",
      "*******************************************************************************\n",
      "TEXT n° 8  -- TRUE label: Negative  -- PREDICTED label: Negative\n",
      "-------------------------------------------------------------------------------\n",
      "<START> it's nice that these three young directors have produced films with good productions values and decent acting there's some good work here br br unfortunately they suffer from what much of modern gay cinema recycled plots too familiar devices i have seen the pool setting way too many times in gay male films and hackneyed scripts most egregious of all is dorothy whose preposterous premise is that a cute young guy will have trouble getting laid in nyc due to a shortage of identifiable gay guys in his vicinity br br in terms of cinema these shorts play like tacky little gay afterschool specials not a lot of imagination in their writing or execution basically they follow a point and shoot shot reaction shot master shot convention which becomes painfully dull after five or so minutes there's hope for queer cinema in the works of todd haynes sadie benning and the late great marlon riggs but not here these films are incredibly middlebrow singularly whitebread and their values basically pander to a gay bourgeois sensibility which is probably why they play so well at gay film festivals\n",
      "*******************************************************************************\n",
      "*******************************************************************************\n",
      "TEXT n° 9  -- TRUE label: Positive  -- PREDICTED label: Positive\n",
      "-------------------------------------------------------------------------------\n",
      "<START> excellent and highly under rated from beginning to end one of oliver's best well scripted directed shot acted and soundtrack trivia the music during the end credits vaguely sounds like a late 90's pop hit by band br br eric and cast are brilliant let alone the callers what a whirlwind of emotions it make's your hair stand on end necks will be broke and whips will crack in a old female southern accent creepy scary than any horror movie br br 10 out of 10 br br em\n",
      "*******************************************************************************\n",
      "*******************************************************************************\n",
      "TEXT n° 10  -- TRUE label: Positive  -- PREDICTED label: Positive\n",
      "-------------------------------------------------------------------------------\n",
      "<START> i did not expect to enjoy this in truth i watched it because a friend knew a friend knew a friend who wrote the script but wasn't credited knowing dylan thomas and really being appreciative of his poetry but aware and rather disconcerted by the man i didn't feel i needed to see a twee adaption of his lame bohemian life laid bare and this was not it critical and yet appreciative it was it made me cry kiera knightley was superb even with that slightly strained welsh accent and it is a sad tale that they tell dylan thomas is not the hero as sadly he was not throughout his life and neither really are the so called woman' of the pr spiel it is cillian the william of the movie a man that leaves the woman he loves to fight a war that they ignore his challenge to with that indifference is what is of real interest to this film and what a beautiful performance from that actor i this film is underrated because it was marketed so badly dylan thomas fans will expect something more from their so very flawed hero and get less and well that is how it was marketed it is not a film about dylan thomas and it is much more interesting for it\n",
      "*******************************************************************************\n"
     ]
    }
   ],
   "source": [
    "for i in range(10):\n",
    "    print('*******************************************************************************')\n",
    "    print('TEXT n°', i + 1, ' -- TRUE label:', true[i], ' -- PREDICTED label:', preds[i])\n",
    "    print('-------------------------------------------------------------------------------')\n",
    "    print(text[i])\n",
    "    print('*******************************************************************************')"
   ]
  },
  {
   "cell_type": "code",
   "execution_count": null,
   "metadata": {
    "collapsed": true
   },
   "outputs": [],
   "source": []
  }
 ],
 "metadata": {
  "anaconda-cloud": {},
  "kernelspec": {
   "display_name": "Python [conda env:deepenv]",
   "language": "python",
   "name": "conda-env-deepenv-py"
  },
  "language_info": {
   "codemirror_mode": {
    "name": "ipython",
    "version": 3
   },
   "file_extension": ".py",
   "mimetype": "text/x-python",
   "name": "python",
   "nbconvert_exporter": "python",
   "pygments_lexer": "ipython3",
   "version": "3.5.3"
  }
 },
 "nbformat": 4,
 "nbformat_minor": 1
}
